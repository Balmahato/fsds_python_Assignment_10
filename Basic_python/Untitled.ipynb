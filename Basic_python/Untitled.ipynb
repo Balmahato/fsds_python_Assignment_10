{
 "cells": [
  {
   "cell_type": "markdown",
   "id": "7ed172cb",
   "metadata": {},
   "source": [
    "Assignments 10 solutions"
   ]
  },
  {
   "cell_type": "markdown",
   "id": "d24e4a82",
   "metadata": {},
   "source": [
    "1  How do you distinguish between shutil.copy() and shutil.copytree()?"
   ]
  },
  {
   "cell_type": "markdown",
   "id": "db73cea8",
   "metadata": {},
   "source": [
    "Ans-:"
   ]
  },
  {
   "cell_type": "markdown",
   "id": "67fdb3e1",
   "metadata": {},
   "source": [
    "shutil.copy() is used to make a shallow copy of a single file. It takes two arguments: the source file path and the destination file path. It copies the contents of the source file to the specified destination file. If the destination file already exists, it will be overwritten.\n",
    " \n",
    "shutil.copytree() is used to recursively copy an entire directory tree (including all its files and subdirectories) to a new location. It takes two arguments: the source directory path and the destination directory path. It creates a new directory at the destination path and copies the entire directory tree from the source to the destination."
   ]
  },
  {
   "cell_type": "markdown",
   "id": "b510017e",
   "metadata": {},
   "source": [
    "2. What function is used to rename files?"
   ]
  },
  {
   "cell_type": "markdown",
   "id": "01bafd4d",
   "metadata": {},
   "source": [
    "Ans-:"
   ]
  },
  {
   "cell_type": "markdown",
   "id": "259171e7",
   "metadata": {},
   "source": [
    "os.rename() function is used to rename files or directories using a python program, this function takes two arguments src and dest, src represents the name file/directory which we want to rename, whereas dest represents the new name of the file/directory."
   ]
  },
  {
   "cell_type": "markdown",
   "id": "bbce5c34",
   "metadata": {},
   "source": [
    "3. What is the difference between the delete functions in the send2trash and shutil modules?"
   ]
  },
  {
   "cell_type": "markdown",
   "id": "e607c3d1",
   "metadata": {},
   "source": [
    "Ans-:"
   ]
  },
  {
   "cell_type": "markdown",
   "id": "db2164fc",
   "metadata": {},
   "source": [
    "Shutil module provides a funciton called as shutil.rmtree() which deletes a directory and all its contents. The other functions with similar functionality are os.remove() -> removes a file, os.rmdir() removes a empty directory. The problem with these functions is once a file is deleted. it will be lost permanently, if a file is deleted accidentally using these methods there is no way we can recover the deleted file\n",
    "\n",
    "Where as send2trash module provides a function called send2trash.send2trash() to delete a file/directory. these methods moves the files/directories to trash folder instead of permanently deleting them. hence if a file/folder is deleted accidentally it can be still recovered from trash folder, if is deleted using the send2trash.send2trash() function. send2trash is not included with python standard libary like os & shutil modules. it needs to be installed explicitly using the command !pip install send2trash"
   ]
  },
  {
   "cell_type": "markdown",
   "id": "a6d316e3",
   "metadata": {},
   "source": [
    "4.ZipFile objects have a close() method just like File objects’ close() method. What ZipFile method is\n",
    "equivalent to File objects’ open() method?"
   ]
  },
  {
   "cell_type": "markdown",
   "id": "d00bf727",
   "metadata": {},
   "source": [
    "Ans-:"
   ]
  },
  {
   "cell_type": "markdown",
   "id": "a5b860a1",
   "metadata": {},
   "source": [
    "ZipFile Module provides a method called as zipfile.ZipFile() to read and write to zipFiles. it takes arugments lile filename and mode etc zipfile.ZipFile('filename', mode = 'r')"
   ]
  },
  {
   "cell_type": "markdown",
   "id": "64be4e04",
   "metadata": {},
   "source": [
    "5. Create a programme that searches a folder tree for files with a certain file extension (such as .pdf\n",
    "or .jpg). Copy these files from whatever location they are in to a new folder."
   ]
  },
  {
   "cell_type": "markdown",
   "id": "0280f49d",
   "metadata": {},
   "source": [
    "Ans-:"
   ]
  },
  {
   "cell_type": "code",
   "execution_count": 5,
   "id": "bb3d4a84",
   "metadata": {},
   "outputs": [],
   "source": [
    "import os\n",
    "import shutil\n",
    "\n",
    "def search_and_copy(source,destination,extensions):\n",
    "    source = os.path.abspath(source)\n",
    "    destination = os.path.abspath(destination)\n",
    "    for foldername, subfolder, filenames in os.walk(source):\n",
    "        print(f'Folder Name ➞ {foldername}',end='\\n\\n')\n",
    "        print(f'Sub Folders ➞ {subfolder}',end='\\n\\n')\n",
    "        print(f'Files ➞ {filenames}',end='\\n\\n')\n",
    "        for filename in filenames:\n",
    "            fileName,extension = os.path.splitext(filename)\n",
    "            if extension in extensions:\n",
    "                targetFile = foldername+os.path.sep+fileName+extension\n",
    "                shutil.copy(targetFile, destination)\n",
    "        print(f'Files copied successfully from {source} to {destination}')\n",
    "    \n",
    "extensions = ['.pdf','.jpg','.ipynb']\n",
    "source = 'Dummy Source'\n",
    "destination = 'Dummy Destination'\n",
    "search_and_copy(source, destination, extensions)"
   ]
  },
  {
   "cell_type": "code",
   "execution_count": null,
   "id": "2ab895fd",
   "metadata": {},
   "outputs": [],
   "source": []
  }
 ],
 "metadata": {
  "kernelspec": {
   "display_name": "Python 3 (ipykernel)",
   "language": "python",
   "name": "python3"
  },
  "language_info": {
   "codemirror_mode": {
    "name": "ipython",
    "version": 3
   },
   "file_extension": ".py",
   "mimetype": "text/x-python",
   "name": "python",
   "nbconvert_exporter": "python",
   "pygments_lexer": "ipython3",
   "version": "3.9.12"
  }
 },
 "nbformat": 4,
 "nbformat_minor": 5
}
